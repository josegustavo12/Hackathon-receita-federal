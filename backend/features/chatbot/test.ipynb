{
 "cells": [
  {
   "cell_type": "code",
   "execution_count": 1,
   "id": "839104e1",
   "metadata": {},
   "outputs": [
    {
     "name": "stderr",
     "output_type": "stream",
     "text": [
      "/home/lucas_of/anaconda3/envs/NLP/lib/python3.12/site-packages/tqdm/auto.py:21: TqdmWarning: IProgress not found. Please update jupyter and ipywidgets. See https://ipywidgets.readthedocs.io/en/stable/user_install.html\n",
      "  from .autonotebook import tqdm as notebook_tqdm\n"
     ]
    },
    {
     "data": {
      "text/plain": [
       "'It was a productive day! I processed a lot of information and helped many users.  How was yours?\\n'"
      ]
     },
     "execution_count": 1,
     "metadata": {},
     "output_type": "execute_result"
    }
   ],
   "source": [
    "from chatbot import Chatbot\n",
    "\n",
    "chatbot = Chatbot()\n",
    "\n",
    "chatbot.response(\"How was your day?\")\n"
   ]
  },
  {
   "cell_type": "code",
   "execution_count": 6,
   "id": "e01cf4fe",
   "metadata": {},
   "outputs": [],
   "source": [
    "chatbot.restart()"
   ]
  },
  {
   "cell_type": "code",
   "execution_count": 10,
   "id": "02102d50",
   "metadata": {},
   "outputs": [
    {
     "data": {
      "text/plain": [
       "\"I don't have memory of past conversations. To answer your question, I need more context or information.\\n\""
      ]
     },
     "execution_count": 10,
     "metadata": {},
     "output_type": "execute_result"
    }
   ],
   "source": [
    "chatbot.response(\"What was my first question?\")"
   ]
  },
  {
   "cell_type": "code",
   "execution_count": 11,
   "id": "e9f3563a",
   "metadata": {},
   "outputs": [
    {
     "data": {
      "text/plain": [
       "'Four times.\\n'"
      ]
     },
     "execution_count": 11,
     "metadata": {},
     "output_type": "execute_result"
    }
   ],
   "source": [
    "chatbot.response(\"How many times did you give the same answer?\")"
   ]
  }
 ],
 "metadata": {
  "kernelspec": {
   "display_name": "NLP",
   "language": "python",
   "name": "python3"
  },
  "language_info": {
   "codemirror_mode": {
    "name": "ipython",
    "version": 3
   },
   "file_extension": ".py",
   "mimetype": "text/x-python",
   "name": "python",
   "nbconvert_exporter": "python",
   "pygments_lexer": "ipython3",
   "version": "3.12.9"
  }
 },
 "nbformat": 4,
 "nbformat_minor": 5
}
