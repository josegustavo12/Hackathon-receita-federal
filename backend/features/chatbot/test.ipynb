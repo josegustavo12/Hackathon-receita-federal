{
 "cells": [
  {
   "cell_type": "code",
   "execution_count": 2,
   "id": "839104e1",
   "metadata": {},
   "outputs": [
    {
     "data": {
      "text/plain": [
       "'Os componentes específicos do pod Ignite podem variar ligeiramente dependendo do modelo, mas geralmente incluem:\\n\\n* **Bateria:** Fornece a energia para aquecer o líquido.\\n* **Cartucho/Pod:** Contém o e-líquido (nicotina e aromatizantes) e a resistência (bobina de aquecimento).  Estes são geralmente descartáveis.\\n* **Circuito eletrônico (em alguns modelos):** Controla a potência e a segurança do dispositivo.\\n* **Boca de saída (Drip tip):** Por onde o usuário inala o vapor.\\n* **Conector (para conectar o pod à bateria):**  Permite a conexão entre o pod e a bateria.\\n\\nÉ importante observar que esta é uma lista geral. Recomendo verificar as especificações do modelo Ignite específico que você possui para obter informações mais precisas.\\n'"
      ]
     },
     "execution_count": 2,
     "metadata": {},
     "output_type": "execute_result"
    }
   ],
   "source": [
    "from chatbot import Chatbot\n",
    "\n",
    "chatbot = Chatbot()\n",
    "\n",
    "chatbot.response(\"Quais os componentes da marca Ignite de pod (cigarro eletrônico)?\")\n"
   ]
  },
  {
   "cell_type": "code",
   "execution_count": 6,
   "id": "e01cf4fe",
   "metadata": {},
   "outputs": [],
   "source": [
    "chatbot.restart()"
   ]
  },
  {
   "cell_type": "code",
   "execution_count": 3,
   "id": "02102d50",
   "metadata": {},
   "outputs": [
    {
     "data": {
      "text/plain": [
       "'Não consigo acessar informações em tempo real, incluindo especificações de produtos como o pod Ignite.  Minhas informações são baseadas em dados com os quais fui treinado, e não tenho acesso à internet ou a bases de dados de produtos atualizadas. Para obter as especificações exatas do seu pod Ignite, consulte o manual do usuário, o site do fabricante ou a embalagem do produto.\\n'"
      ]
     },
     "execution_count": 3,
     "metadata": {},
     "output_type": "execute_result"
    }
   ],
   "source": [
    "chatbot.response(\"Você consegue acessar as especificaçoes do Ignite?\")"
   ]
  },
  {
   "cell_type": "code",
   "execution_count": 11,
   "id": "e9f3563a",
   "metadata": {},
   "outputs": [
    {
     "data": {
      "text/plain": [
       "'Four times.\\n'"
      ]
     },
     "execution_count": 11,
     "metadata": {},
     "output_type": "execute_result"
    }
   ],
   "source": [
    "chatbot.response(\"How many times did you give the same answer?\")"
   ]
  }
 ],
 "metadata": {
  "kernelspec": {
   "display_name": "NLP",
   "language": "python",
   "name": "python3"
  },
  "language_info": {
   "codemirror_mode": {
    "name": "ipython",
    "version": 3
   },
   "file_extension": ".py",
   "mimetype": "text/x-python",
   "name": "python",
   "nbconvert_exporter": "python",
   "pygments_lexer": "ipython3",
   "version": "3.12.9"
  }
 },
 "nbformat": 4,
 "nbformat_minor": 5
}
